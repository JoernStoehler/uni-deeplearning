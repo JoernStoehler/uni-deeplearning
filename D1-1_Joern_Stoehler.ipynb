{
 "cells": [
  {
   "cell_type": "markdown",
   "metadata": {
    "id": "4jd9NO2RA3NP"
   },
   "source": [
    "# Day 1: Introduction Numpy and PyTorch\n",
    "\n",
    "On the first day, we will cover:\n",
    "\n",
    "> (in the morning)\n",
    ">* Python Basics: data types (list, dictionary, set, tuple), function, class\n",
    ">* Numpy: array, indexing, matrix operation, broadcasting, sort\n",
    "\n",
    ">(in the afternoon)\n",
    ">* PyTorch Basics: tensors, computational graph, automatic differentiation, custom modules and parameters\n",
    "\n",
    "\n",
    "Adapted from the `CS231n` Python tutorial by Justin Johnson (http://cs231n.github.io/python-numpy-tutorial/)."
   ]
  },
  {
   "cell_type": "markdown",
   "metadata": {
    "id": "E74QVOZ6A-Ki"
   },
   "source": [
    "## Python Basics\n",
    "Python is a great general-purpose programming language on its own, but with the help of a huge number of open-source libraries including core libraries (such as numpy, scipy, pandas, matplotlib), libraries for machine learning (Scikit-learn), for deep learning (such as PyTorch, Keras, TensorFlow, and Theano) it becomes a powerful environment for data science.\n",
    "\n",
    "We expect that some of you may already have some experience with Python and Numpy, or even PyTorch; for the rest of you, today's section will be a quick crash course on the python programming language and on the use of PyTorch for scientific computing."
   ]
  },
  {
   "cell_type": "markdown",
   "metadata": {
    "id": "NXnVhBI9A4w3"
   },
   "source": [
    "### Numbers\n",
    "Integers and floats "
   ]
  },
  {
   "cell_type": "code",
   "execution_count": 1,
   "metadata": {
    "colab": {
     "base_uri": "https://localhost:8080/"
    },
    "id": "w9OPV1c8A3yn",
    "outputId": "2d69ec75-73fb-4969-ffb3-333b0a7ba73e"
   },
   "outputs": [
    {
     "name": "stdout",
     "output_type": "stream",
     "text": [
      "26 <class 'int'> 26.0 <class 'float'>\n"
     ]
    }
   ],
   "source": [
    "#@title\n",
    "x = 26\n",
    "y = 26.0\n",
    "print(x, type(x), y, type(y))"
   ]
  },
  {
   "cell_type": "markdown",
   "metadata": {
    "id": "GwfGfIYaGFgj"
   },
   "source": [
    "and we can do operations:"
   ]
  },
  {
   "cell_type": "code",
   "execution_count": 2,
   "metadata": {
    "colab": {
     "base_uri": "https://localhost:8080/"
    },
    "id": "9xnpVvQVGDat",
    "outputId": "d775105f-ea76-41ca-d7bc-14e415bae7a8"
   },
   "outputs": [
    {
     "name": "stdout",
     "output_type": "stream",
     "text": [
      "27\n",
      "25\n",
      "130\n",
      "6.5\n",
      "6\n",
      "676\n"
     ]
    }
   ],
   "source": [
    "print(x + 1) # addition;\n",
    "print(x - 1) # subtraction;\n",
    "print(x * 5) # multiplication;\n",
    "print(x / 4) # float devision;\n",
    "print(x // 4) #integer division;\n",
    "print(x ** 2) # exponentiation;"
   ]
  },
  {
   "cell_type": "markdown",
   "metadata": {
    "id": "Y3LJ56b5AyI0"
   },
   "source": [
    "### Strings"
   ]
  },
  {
   "cell_type": "code",
   "execution_count": 3,
   "metadata": {
    "colab": {
     "base_uri": "https://localhost:8080/"
    },
    "id": "yp_E2MifmY_E",
    "outputId": "f3a1dce5-03d0-46f3-d39b-84bf88644728"
   },
   "outputs": [
    {
     "name": "stdout",
     "output_type": "stream",
     "text": [
      "hello world! 12\n",
      "hello world! 12\n"
     ]
    }
   ],
   "source": [
    "# either '' or \"\" work to define strings\n",
    "word1 = 'hello world!'\n",
    "word2 = \"hello world!\"\n",
    "print(word1, len(word1))\n",
    "print(word2, len(word2))"
   ]
  },
  {
   "cell_type": "markdown",
   "metadata": {
    "id": "iHd7pqWEmZfF"
   },
   "source": [
    "Operations on strings can be:"
   ]
  },
  {
   "cell_type": "code",
   "execution_count": 4,
   "metadata": {
    "colab": {
     "base_uri": "https://localhost:8080/"
    },
    "id": "riiKluUtIMW-",
    "outputId": "1c0bb773-8fb9-438a-c8e6-73f155a52fe0"
   },
   "outputs": [
    {
     "name": "stdout",
     "output_type": "stream",
     "text": [
      "Hello world!\n",
      "HELLO WORLD!\n",
      "hello python!\n"
     ]
    }
   ],
   "source": [
    "print(word1.capitalize())  # Capitalize a string\n",
    "print(word1.upper())       # Convert a string to uppercase\n",
    "print(word1.replace('world', 'python'))  # Replace all instances of one substring with another;"
   ]
  },
  {
   "cell_type": "markdown",
   "metadata": {
    "id": "jMGy4ZBeIx0h"
   },
   "source": [
    "### Lists\n",
    "\n",
    "A list is the Python equivalent of an array, but is resizeable and can contain elements of different types:"
   ]
  },
  {
   "cell_type": "code",
   "execution_count": 5,
   "metadata": {
    "colab": {
     "base_uri": "https://localhost:8080/"
    },
    "id": "jUGkVLPpJH5b",
    "outputId": "0ef14be9-dbea-41b4-f5b4-d51f480526b3"
   },
   "outputs": [
    {
     "name": "stdout",
     "output_type": "stream",
     "text": [
      "[1, 2, 3, 4, 5] 2\n",
      "5 4\n"
     ]
    }
   ],
   "source": [
    "l1 = [1, 2, 3, 4, 5] # create a list with 5 elements\n",
    "print(l1, l1[1]) # indexing of a list; count from 0 instead of 1, therefore l1[1] is 2 instead of 1.\n",
    "print(l1[-1], l1[-2]) # negative indices count from the end of the list, therefore l1[-1] is 5, l1[-2] is 4."
   ]
  },
  {
   "cell_type": "code",
   "execution_count": 6,
   "metadata": {
    "colab": {
     "base_uri": "https://localhost:8080/"
    },
    "id": "GlmENlsPJ5qw",
    "outputId": "1d480388-ebb1-44ff-8775-0a1642c448f1"
   },
   "outputs": [
    {
     "name": "stdout",
     "output_type": "stream",
     "text": [
      "[1, 2, 3, 'python', 5]\n"
     ]
    }
   ],
   "source": [
    "l1 [3] = \"python\" # lists can contain elements of different types\n",
    "print(l1)"
   ]
  },
  {
   "cell_type": "code",
   "execution_count": 7,
   "metadata": {
    "colab": {
     "base_uri": "https://localhost:8080/"
    },
    "id": "mXlotMCkKJFh",
    "outputId": "fbe6bbb0-3d10-4d97-dc68-666243563b4b"
   },
   "outputs": [
    {
     "name": "stdout",
     "output_type": "stream",
     "text": [
      "[1, 2, 3, 'python', 5, 'world']\n"
     ]
    }
   ],
   "source": [
    "l1.append(\"world\") # add a new element to the end of the list\n",
    "print(l1)"
   ]
  },
  {
   "cell_type": "markdown",
   "metadata": {
    "id": "x_mFEWTeH26f"
   },
   "source": [
    "#### List comprehensions\n",
    "When programming, we want to transform one type of data into another, by using a list comprehension:"
   ]
  },
  {
   "cell_type": "code",
   "execution_count": 8,
   "metadata": {
    "colab": {
     "base_uri": "https://localhost:8080/"
    },
    "id": "bvCcZEWnIF9B",
    "outputId": "593f05e5-6857-47b9-f7f0-7af0d4a9f281"
   },
   "outputs": [
    {
     "name": "stdout",
     "output_type": "stream",
     "text": [
      "[0, 1, 4, 9, 16]\n"
     ]
    }
   ],
   "source": [
    "nums = [0, 1, 2, 3, 4]\n",
    "squares = [x ** 2 for x in nums]\n",
    "print(squares)"
   ]
  },
  {
   "cell_type": "markdown",
   "metadata": {
    "id": "fiLZ8vBnIJGK"
   },
   "source": [
    "List comprehensions can also contain conditions:"
   ]
  },
  {
   "cell_type": "code",
   "execution_count": 9,
   "metadata": {
    "colab": {
     "base_uri": "https://localhost:8080/"
    },
    "id": "yXasnyBtIN0Z",
    "outputId": "fa03e341-85cf-4311-c340-da10bd038f50"
   },
   "outputs": [
    {
     "name": "stdout",
     "output_type": "stream",
     "text": [
      "[0, 4, 16]\n"
     ]
    }
   ],
   "source": [
    "nums = [0, 1, 2, 3, 4]\n",
    "even_squares = [x ** 2 for x in nums if x % 2 == 0]\n",
    "print(even_squares)"
   ]
  },
  {
   "cell_type": "markdown",
   "metadata": {
    "id": "V8Z6qZdRKZAL"
   },
   "source": [
    "### Indexing\n",
    "In addition to accessing list elements one at a time, python also provides concise syntax to access sublists"
   ]
  },
  {
   "cell_type": "code",
   "execution_count": 10,
   "metadata": {
    "colab": {
     "base_uri": "https://localhost:8080/"
    },
    "id": "qD7Y6K17K5om",
    "outputId": "cce2afdb-cae4-4835-cc25-be5dfe7e31dc"
   },
   "outputs": [
    {
     "name": "stdout",
     "output_type": "stream",
     "text": [
      "[0, 1, 2, 3, 4]\n"
     ]
    }
   ],
   "source": [
    "l2 = list(range(5)) # range is a build-in function to create a list of integers\n",
    "print(l2)"
   ]
  },
  {
   "cell_type": "code",
   "execution_count": 11,
   "metadata": {
    "colab": {
     "base_uri": "https://localhost:8080/"
    },
    "id": "bBNgKtxp-xDz",
    "outputId": "1e5e4e1d-fd2c-4d6f-b74e-78b1b54e1539"
   },
   "outputs": [
    {
     "name": "stdout",
     "output_type": "stream",
     "text": [
      "[2, 3]\n"
     ]
    }
   ],
   "source": [
    "\n",
    "print(l2[2:4]) #use colon, get a sublist from index 2 to 4 (2 is inclusive and 4 is exclusive)\n"
   ]
  },
  {
   "cell_type": "code",
   "execution_count": 12,
   "metadata": {
    "colab": {
     "base_uri": "https://localhost:8080/"
    },
    "id": "OVc_8h6zAdvu",
    "outputId": "cabad0a1-0a6a-43bb-b649-f1662b49cbf0"
   },
   "outputs": [
    {
     "name": "stdout",
     "output_type": "stream",
     "text": [
      "[2, 3, 4]\n"
     ]
    }
   ],
   "source": [
    "print(l2[2:]) # sublist from index 2 to the end of the list"
   ]
  },
  {
   "cell_type": "code",
   "execution_count": 13,
   "metadata": {
    "colab": {
     "base_uri": "https://localhost:8080/"
    },
    "id": "a-4A1DN2Av_E",
    "outputId": "73d7017c-efd0-4bb5-812e-5a78d805c466"
   },
   "outputs": [
    {
     "name": "stdout",
     "output_type": "stream",
     "text": [
      "[0, 1, 2]\n"
     ]
    }
   ],
   "source": [
    "print(l2[:3]) # sublist from the start till 3 (exclusive)"
   ]
  },
  {
   "cell_type": "markdown",
   "metadata": {
    "id": "G-Gvb_YrcX0f"
   },
   "source": [
    "### Dictionaries\n",
    "\n",
    "A dictionary stores (key, value) pairs"
   ]
  },
  {
   "cell_type": "code",
   "execution_count": 14,
   "metadata": {
    "colab": {
     "base_uri": "https://localhost:8080/"
    },
    "id": "PhJTwYAyojkh",
    "outputId": "df97213b-806e-47c2-eb3c-5456d3a874cf"
   },
   "outputs": [
    {
     "name": "stdout",
     "output_type": "stream",
     "text": [
      "cute\n",
      "True\n",
      "wet\n"
     ]
    }
   ],
   "source": [
    "d = {'cat': 'cute', 'dog': 'furry'}  # Create a new dictionary with some data\n",
    "print(d['cat'])       # Get an entry from a dictionary\n",
    "print('cat' in d)     # Check if a dictionary has a given key\n",
    "d['fish'] = 'wet'    # Set an entry in a dictionary\n",
    "print(d['fish'])"
   ]
  },
  {
   "cell_type": "markdown",
   "metadata": {
    "id": "cKyuntSmpN1U"
   },
   "source": [
    "### Sets\n",
    "A set is an unordered collection of elements"
   ]
  },
  {
   "cell_type": "code",
   "execution_count": 15,
   "metadata": {
    "colab": {
     "base_uri": "https://localhost:8080/"
    },
    "id": "Xdf5hR2apawu",
    "outputId": "a447693c-378a-43cf-dda0-22d46ebc2319"
   },
   "outputs": [
    {
     "name": "stdout",
     "output_type": "stream",
     "text": [
      "True\n",
      "False\n"
     ]
    }
   ],
   "source": [
    "animals = {'dog', 'cat', 'fish'}\n",
    "print('dog' in animals) # check if an element is in a set\n",
    "print('bird' in animals)"
   ]
  },
  {
   "cell_type": "code",
   "execution_count": 16,
   "metadata": {
    "colab": {
     "base_uri": "https://localhost:8080/"
    },
    "id": "j0F03vaJptVX",
    "outputId": "4615ca01-e010-418a-a033-7e288e6efc62"
   },
   "outputs": [
    {
     "name": "stdout",
     "output_type": "stream",
     "text": [
      "{'dog', 'cat', 'fish'}\n",
      "{'dog', 'cat', 'fish', 'bird'}\n"
     ]
    }
   ],
   "source": [
    "animals.add('fish') # adding an element that is already in the set does nothing\n",
    "print(animals)\n",
    "animals.add('bird')\n",
    "print(animals)"
   ]
  },
  {
   "cell_type": "markdown",
   "metadata": {
    "id": "bwj2Rm-xpt0_"
   },
   "source": [
    "### Tuples\n",
    "A tuple is an ordered list of values. It is similar to a list, but it can be used as keys in dictionaries and as elements of sets, while lists cannot."
   ]
  },
  {
   "cell_type": "code",
   "execution_count": 17,
   "metadata": {
    "colab": {
     "base_uri": "https://localhost:8080/"
    },
    "id": "3KDXlv16puH_",
    "outputId": "5e3a71fd-442d-4670-ff13-6c29fd150cd6"
   },
   "outputs": [
    {
     "name": "stdout",
     "output_type": "stream",
     "text": [
      "<class 'tuple'>\n",
      "5\n",
      "{(0, 1): 0, (1, 2): 1, (2, 3): 2, (3, 4): 3, (4, 5): 4, (5, 6): 5}\n"
     ]
    }
   ],
   "source": [
    "d = {(x, x + 1): x for x in range(6)}  # Create a dictionary with tuple keys\n",
    "t = (5, 6)       # Create a tuple\n",
    "print(type(t))\n",
    "print(d[t])\n",
    "print(d)"
   ]
  },
  {
   "cell_type": "markdown",
   "metadata": {
    "id": "M_RZ67jupuYv"
   },
   "source": [
    "### Functions\n",
    "Python functions are defined using the **def** keyword, for example (be careful with the indent):"
   ]
  },
  {
   "cell_type": "code",
   "execution_count": 18,
   "metadata": {
    "colab": {
     "base_uri": "https://localhost:8080/"
    },
    "id": "YRHH-_jppun_",
    "outputId": "80160068-0735-4c2c-cdec-f3c4be36c980"
   },
   "outputs": [
    {
     "name": "stdout",
     "output_type": "stream",
     "text": [
      "-1 is negative\n",
      "0 is zero\n",
      "1 is positive\n"
     ]
    }
   ],
   "source": [
    "def sign(x):\n",
    "    if x > 0:\n",
    "        return 'positive'\n",
    "    elif x < 0:\n",
    "        return 'negative'\n",
    "    else:\n",
    "        return 'zero'\n",
    "\n",
    "for x in [-1, 0, 1]:\n",
    "    print(x, 'is', sign(x))"
   ]
  },
  {
   "cell_type": "markdown",
   "metadata": {
    "id": "tAkXse4Nrshy"
   },
   "source": [
    "Another example is as follows:"
   ]
  },
  {
   "cell_type": "code",
   "execution_count": 19,
   "metadata": {
    "colab": {
     "base_uri": "https://localhost:8080/"
    },
    "id": "J9wGO-Mbrx86",
    "outputId": "5685dea9-b2bc-455b-fd90-3cd03d869bb2"
   },
   "outputs": [
    {
     "name": "stdout",
     "output_type": "stream",
     "text": [
      "Hello, world!\n",
      "HELLO, WORLD!!!\n"
     ]
    }
   ],
   "source": [
    "def hello(name, loud=False):\n",
    "    if loud:\n",
    "        print('HELLO, %s!!!' % name.upper())\n",
    "    else:\n",
    "        print('Hello, %s!' % name)\n",
    "\n",
    "hello('world')\n",
    "hello('world', loud=True)"
   ]
  },
  {
   "cell_type": "markdown",
   "metadata": {
    "id": "WqWl0lDmsBAM"
   },
   "source": [
    "### Classes\n",
    "Python also provides defining classes"
   ]
  },
  {
   "cell_type": "code",
   "execution_count": 20,
   "metadata": {
    "colab": {
     "base_uri": "https://localhost:8080/"
    },
    "id": "2OXkwM-bsBVc",
    "outputId": "8ecab054-76fe-4e1b-af37-34459e9c18c8"
   },
   "outputs": [
    {
     "name": "stdout",
     "output_type": "stream",
     "text": [
      "Hello, world!\n",
      "HELLO, WORLD!!!\n"
     ]
    }
   ],
   "source": [
    "class Greeter:\n",
    "\n",
    "    # Constructor\n",
    "    def __init__(self, name):\n",
    "        self.name = name  # Create an instance variable\n",
    "\n",
    "    # Instance method\n",
    "    def greet(self, loud=False):\n",
    "        if loud:\n",
    "            print('HELLO, %s!!!' % self.name.upper())\n",
    "        else:\n",
    "            print('Hello, %s!' % self.name)\n",
    "\n",
    "g = Greeter('world')  # Construct an instance of the Greeter class\n",
    "g.greet()            # Call an instance method;\n",
    "g.greet(loud=True)   # Call an instance method;"
   ]
  },
  {
   "cell_type": "markdown",
   "metadata": {
    "id": "7XFEsIPEsBps"
   },
   "source": [
    "## Numpy\n",
    "\n",
    "Numpy is a core library for scientific computing in python. It provides a high-performance multidimensional array object, and tools for working with these arrays. \n",
    "\n",
    "To use Numpy, we first need to import the numpy package:"
   ]
  },
  {
   "cell_type": "code",
   "execution_count": 21,
   "metadata": {
    "id": "IBvaKdJfsB0U"
   },
   "outputs": [],
   "source": [
    "import numpy as np"
   ]
  },
  {
   "cell_type": "markdown",
   "metadata": {
    "id": "OlmGYP2EsCC8"
   },
   "source": [
    "A numpy array is a grid of values, all of the same type, and is indexed by a tuple of nonnegative integers. The number of dimensions is the rank of the array; the shape of an array is a tuple of integers giving the size of the array along each dimension.\n",
    "\n",
    "We can initialise numpy arrays from nested Python lists, and access elements using square brackets:\n"
   ]
  },
  {
   "cell_type": "code",
   "execution_count": 22,
   "metadata": {
    "colab": {
     "base_uri": "https://localhost:8080/"
    },
    "id": "DoPJDk0dtNPb",
    "outputId": "841ba701-c717-4a9e-d05b-e6b428453717"
   },
   "outputs": [
    {
     "name": "stdout",
     "output_type": "stream",
     "text": [
      "<class 'numpy.ndarray'> (3,) 1 2 3\n",
      "[5 2 3]\n"
     ]
    }
   ],
   "source": [
    "a = np.array([1, 2, 3])  # Create a rank 1 array\n",
    "print(type(a), a.shape, a[0], a[1], a[2]) # note that indices start from 0\n",
    "a[0] = 5                 # Change an element of the array\n",
    "print(a)"
   ]
  },
  {
   "cell_type": "code",
   "execution_count": 23,
   "metadata": {
    "colab": {
     "base_uri": "https://localhost:8080/"
    },
    "id": "e-H6qILPDGyT",
    "outputId": "3179fca9-e6b2-480d-866a-1f0340e3e47b"
   },
   "outputs": [
    {
     "name": "stdout",
     "output_type": "stream",
     "text": [
      "[[1 2 3]\n",
      " [4 5 6]]\n"
     ]
    }
   ],
   "source": [
    "b = np.array([[1,2,3],[4,5,6]])   # Create a rank 2 array\n",
    "print(b)"
   ]
  },
  {
   "cell_type": "code",
   "execution_count": 24,
   "metadata": {
    "colab": {
     "base_uri": "https://localhost:8080/"
    },
    "id": "Pa9WZ9apDWiE",
    "outputId": "02c1f524-10b5-42d7-fb0d-db5f8b3729cb"
   },
   "outputs": [
    {
     "name": "stdout",
     "output_type": "stream",
     "text": [
      "(2, 3)\n",
      "1 2 4\n"
     ]
    }
   ],
   "source": [
    "print(b.shape)\n",
    "print(b[0, 0], b[0, 1], b[1, 0])"
   ]
  },
  {
   "cell_type": "markdown",
   "metadata": {
    "id": "rfmK-eg2DlOW"
   },
   "source": [
    "Numpy also provides many functions to create arrays:"
   ]
  },
  {
   "cell_type": "code",
   "execution_count": 25,
   "metadata": {
    "colab": {
     "base_uri": "https://localhost:8080/"
    },
    "id": "vni_BVYWDp4G",
    "outputId": "5be822c8-ce8d-48c9-c2a7-051f04d89547"
   },
   "outputs": [
    {
     "name": "stdout",
     "output_type": "stream",
     "text": [
      "[[[0. 0.]]\n",
      "\n",
      " [[0. 0.]]\n",
      "\n",
      " [[0. 0.]]] (3, 1, 2)\n",
      "0.0\n",
      "[[0. 0.]] (1, 2)\n",
      "[0. 0. 0.] (3,)\n"
     ]
    }
   ],
   "source": [
    "a = np.zeros((3,1,2)) # create a rank 3 array of all zeros\n",
    "print(a, a.shape)\n",
    "print(a[0, 0, 0])\n",
    "print(a[0, :, :], a[0, :, :].shape)\n",
    "print(a[:, 0, 0], a[:, 0, 0].shape)"
   ]
  },
  {
   "cell_type": "code",
   "execution_count": 26,
   "metadata": {
    "colab": {
     "base_uri": "https://localhost:8080/"
    },
    "id": "gkYvtJcmFIt-",
    "outputId": "3571c9da-03dd-465b-8ac9-dfc36294dc4a"
   },
   "outputs": [
    {
     "name": "stdout",
     "output_type": "stream",
     "text": [
      "[[[[1. 1.]\n",
      "   [1. 1.]]\n",
      "\n",
      "  [[1. 1.]\n",
      "   [1. 1.]]\n",
      "\n",
      "  [[1. 1.]\n",
      "   [1. 1.]]]\n",
      "\n",
      "\n",
      " [[[1. 1.]\n",
      "   [1. 1.]]\n",
      "\n",
      "  [[1. 1.]\n",
      "   [1. 1.]]\n",
      "\n",
      "  [[1. 1.]\n",
      "   [1. 1.]]]\n",
      "\n",
      "\n",
      " [[[1. 1.]\n",
      "   [1. 1.]]\n",
      "\n",
      "  [[1. 1.]\n",
      "   [1. 1.]]\n",
      "\n",
      "  [[1. 1.]\n",
      "   [1. 1.]]]\n",
      "\n",
      "\n",
      " [[[1. 1.]\n",
      "   [1. 1.]]\n",
      "\n",
      "  [[1. 1.]\n",
      "   [1. 1.]]\n",
      "\n",
      "  [[1. 1.]\n",
      "   [1. 1.]]]]\n"
     ]
    }
   ],
   "source": [
    "b = np.ones((4,3,2,2))   # Create a rank 4 array of all ones\n",
    "print(b)"
   ]
  },
  {
   "cell_type": "code",
   "execution_count": 27,
   "metadata": {
    "colab": {
     "base_uri": "https://localhost:8080/"
    },
    "id": "OC8Iid0pGGzt",
    "outputId": "09ed56ce-907d-4274-b25d-e7ee53dcef66"
   },
   "outputs": [
    {
     "name": "stdout",
     "output_type": "stream",
     "text": [
      "[[26 26]\n",
      " [26 26]]\n"
     ]
    }
   ],
   "source": [
    "c = np.full((2,2), 26) # Create a constant array\n",
    "print(c)"
   ]
  },
  {
   "cell_type": "code",
   "execution_count": 28,
   "metadata": {
    "colab": {
     "base_uri": "https://localhost:8080/"
    },
    "id": "f1NOo6WeGHdV",
    "outputId": "16749e14-093e-4d91-c114-464167d070dd"
   },
   "outputs": [
    {
     "name": "stdout",
     "output_type": "stream",
     "text": [
      "[[1. 0. 0.]\n",
      " [0. 1. 0.]\n",
      " [0. 0. 1.]]\n"
     ]
    }
   ],
   "source": [
    "d = np.eye(3) # create an identity matrix\n",
    "print(d)"
   ]
  },
  {
   "cell_type": "code",
   "execution_count": 29,
   "metadata": {
    "colab": {
     "base_uri": "https://localhost:8080/"
    },
    "id": "GKK7y5zJGHpd",
    "outputId": "094cea72-ad19-4066-c6a1-da29f3f5adb9"
   },
   "outputs": [
    {
     "name": "stdout",
     "output_type": "stream",
     "text": [
      "[[0.19223933 0.98257734]\n",
      " [0.56614957 0.22189189]]\n"
     ]
    }
   ],
   "source": [
    "e = np.random.random((2,2)) # create an array filled with random values\n",
    "print(e)"
   ]
  },
  {
   "cell_type": "markdown",
   "metadata": {
    "id": "m6BuTCQeGH1t"
   },
   "source": [
    "### Array indexing"
   ]
  },
  {
   "cell_type": "code",
   "execution_count": 30,
   "metadata": {
    "colab": {
     "base_uri": "https://localhost:8080/"
    },
    "id": "_1p5nXDUGICV",
    "outputId": "5a1fc476-279d-4ebc-b056-7309a6974b18"
   },
   "outputs": [
    {
     "name": "stdout",
     "output_type": "stream",
     "text": [
      "[[ 1  2  3  4]\n",
      " [ 5  6  7  8]\n",
      " [ 9 10 11 12]]\n"
     ]
    }
   ],
   "source": [
    "a = np.array([[1,2,3,4], [5,6,7,8], [9,10,11,12]])\n",
    "print(a)"
   ]
  },
  {
   "cell_type": "markdown",
   "metadata": {
    "id": "oiVXKeqqGIOl"
   },
   "source": [
    "Two ways of accessing the data in the middle row of the array. Mixing integer indexing with slices yields an array of lower rank, while using only slices yields an array of the same rank as the original array:"
   ]
  },
  {
   "cell_type": "code",
   "execution_count": 31,
   "metadata": {
    "colab": {
     "base_uri": "https://localhost:8080/"
    },
    "id": "zYzAYzZ8HWho",
    "outputId": "5fca4172-5957-4904-a0b2-5c758eeacb41"
   },
   "outputs": [
    {
     "name": "stdout",
     "output_type": "stream",
     "text": [
      "[5 6 7 8] (4,)\n",
      "[[5 6 7 8]] (1, 4)\n",
      "[[5 6 7 8]] (1, 4)\n"
     ]
    }
   ],
   "source": [
    "row_r1 = a[1, :]    # Rank 1 view of the second row of a  \n",
    "row_r2 = a[1:2, :]  # Rank 2 view of the second row of a\n",
    "row_r3 = a[[1], :]  # Rank 2 view of the second row of a\n",
    "print(row_r1, row_r1.shape)\n",
    "print(row_r2, row_r2.shape)\n",
    "print(row_r3, row_r3.shape)"
   ]
  },
  {
   "cell_type": "code",
   "execution_count": 32,
   "metadata": {
    "colab": {
     "base_uri": "https://localhost:8080/"
    },
    "id": "ywiqrsdtHnC2",
    "outputId": "4a9a8c5c-80b7-46ea-8901-54412a28bd15"
   },
   "outputs": [
    {
     "name": "stdout",
     "output_type": "stream",
     "text": [
      "[ 2  6 10] (3,)\n",
      "[[ 2]\n",
      " [ 6]\n",
      " [10]] (3, 1)\n"
     ]
    }
   ],
   "source": [
    "# We can make the same distinction when accessing columns of an array:\n",
    "col_r1 = a[:, 1]\n",
    "col_r2 = a[:, 1:2]\n",
    "print(col_r1, col_r1.shape)\n",
    "print(col_r2, col_r2.shape)"
   ]
  },
  {
   "cell_type": "markdown",
   "metadata": {
    "id": "n6DIWNAsIWNa"
   },
   "source": [
    "Integer array indexing: When you index into numpy arrays using slicing, the resulting array view will always be a subarray of the original array. In contrast, integer array indexing allows you to construct arbitrary arrays using the data from another array. Here is an example:"
   ]
  },
  {
   "cell_type": "code",
   "execution_count": 33,
   "metadata": {
    "colab": {
     "base_uri": "https://localhost:8080/"
    },
    "id": "bq-T3PWwIr8E",
    "outputId": "9440e772-c7aa-48fc-9375-2553665d3a31"
   },
   "outputs": [
    {
     "name": "stdout",
     "output_type": "stream",
     "text": [
      "[1 4 5]\n",
      "[1 4 5]\n"
     ]
    }
   ],
   "source": [
    "a = np.array([[1,2], [3, 4], [5, 6]])\n",
    "\n",
    "# An example of integer array indexing.\n",
    "# The returned array will have shape (3,) and \n",
    "print(a[[0, 1, 2], [0, 1, 0]])\n",
    "\n",
    "# The above example of integer array indexing is equivalent to this:\n",
    "print(np.array([a[0, 0], a[1, 1], a[2, 0]]))"
   ]
  },
  {
   "cell_type": "markdown",
   "metadata": {
    "id": "W19aK-E5I2kt"
   },
   "source": [
    "Boolean array indexing: Boolean array indexing lets you pick out arbitrary elements of an array. Frequently this type of indexing is used to select the elements of an array that satisfy some condition. Here is an example:"
   ]
  },
  {
   "cell_type": "code",
   "execution_count": 34,
   "metadata": {
    "colab": {
     "base_uri": "https://localhost:8080/"
    },
    "id": "FzjT7IvGJOiw",
    "outputId": "2f68a119-9421-4d36-feef-32840e0c8bc5"
   },
   "outputs": [
    {
     "name": "stdout",
     "output_type": "stream",
     "text": [
      "[[ True  True]\n",
      " [False  True]\n",
      " [ True False]]\n"
     ]
    }
   ],
   "source": [
    "a = np.array([[1,2], [3, 4], [5, 6]])\n",
    "b = np.array([[1,2], [4, 4], [5, 5]])\n",
    "bool_idx = (a == b)  # Find the elements of a that equals to the corresponding elements of b;\n",
    "                    # this returns a numpy array of Booleans of the same\n",
    "                    # shape as a, where each slot of bool_idx tells\n",
    "                    # whether that element of a is == b.\n",
    "\n",
    "print(bool_idx)"
   ]
  },
  {
   "cell_type": "code",
   "execution_count": 35,
   "metadata": {
    "colab": {
     "base_uri": "https://localhost:8080/"
    },
    "id": "X9rFphHtJyI8",
    "outputId": "0a2ec866-4ff9-4220-cd3a-4be50a326ed8"
   },
   "outputs": [
    {
     "name": "stdout",
     "output_type": "stream",
     "text": [
      "[1 2 4 5]\n",
      "[1 2 4 5]\n"
     ]
    }
   ],
   "source": [
    "# We use boolean array indexing to construct a rank 1 array\n",
    "# consisting of the elements of a corresponding to the True values\n",
    "# of bool_idx\n",
    "print(a[bool_idx])\n",
    "\n",
    "# We can do all of the above in a single concise statement:\n",
    "print(a[a == b])"
   ]
  },
  {
   "cell_type": "markdown",
   "metadata": {
    "id": "67vn7bGgKFUd"
   },
   "source": [
    "### Array math\n",
    "Basic mathematic functions operate \"element-wise\" on arrays, and are available both as operator overloads and as functions in the numpy module:"
   ]
  },
  {
   "cell_type": "code",
   "execution_count": 36,
   "metadata": {
    "colab": {
     "base_uri": "https://localhost:8080/"
    },
    "id": "_9P23vyjKZL2",
    "outputId": "d8a629ae-73c8-4203-f129-139cc81383fb"
   },
   "outputs": [
    {
     "name": "stdout",
     "output_type": "stream",
     "text": [
      "[[ 6.  8.]\n",
      " [10. 12.]]\n",
      "[[ 6.  8.]\n",
      " [10. 12.]]\n"
     ]
    }
   ],
   "source": [
    "x = np.array([[1,2],[3,4]], dtype=np.float64) # force a particular datatype\n",
    "y = np.array([[5,6],[7,8]], dtype=np.float64)\n",
    "\n",
    "# Elementwise sum; both produce the array\n",
    "print(x + y)\n",
    "print(np.add(x, y))"
   ]
  },
  {
   "cell_type": "code",
   "execution_count": 37,
   "metadata": {
    "colab": {
     "base_uri": "https://localhost:8080/"
    },
    "id": "RLjwYbjjKnrQ",
    "outputId": "bf24f8df-645f-4b91-87e4-236558aad4d0"
   },
   "outputs": [
    {
     "name": "stdout",
     "output_type": "stream",
     "text": [
      "[[-4. -4.]\n",
      " [-4. -4.]]\n",
      "[[-4. -4.]\n",
      " [-4. -4.]]\n"
     ]
    }
   ],
   "source": [
    "# Elementwise difference; both produce the array\n",
    "print(x - y)\n",
    "print(np.subtract(x, y))"
   ]
  },
  {
   "cell_type": "code",
   "execution_count": 38,
   "metadata": {
    "colab": {
     "base_uri": "https://localhost:8080/"
    },
    "id": "dwWtCtObKoJA",
    "outputId": "87dda232-802d-4e53-e7e1-c066195b57c4"
   },
   "outputs": [
    {
     "name": "stdout",
     "output_type": "stream",
     "text": [
      "[[ 5. 12.]\n",
      " [21. 32.]]\n",
      "[[ 5. 12.]\n",
      " [21. 32.]]\n"
     ]
    }
   ],
   "source": [
    "# Elementwise product; both produce the array\n",
    "print(x * y)\n",
    "print(np.multiply(x, y))"
   ]
  },
  {
   "cell_type": "code",
   "execution_count": 39,
   "metadata": {
    "colab": {
     "base_uri": "https://localhost:8080/"
    },
    "id": "hlLUXGuNKofA",
    "outputId": "72dbb048-5bd8-420c-a329-f9ca66f29fd6"
   },
   "outputs": [
    {
     "name": "stdout",
     "output_type": "stream",
     "text": [
      "[[0.2        0.33333333]\n",
      " [0.42857143 0.5       ]]\n",
      "[[0.2        0.33333333]\n",
      " [0.42857143 0.5       ]]\n"
     ]
    }
   ],
   "source": [
    "# Elementwise division; both produce the array\n",
    "print(x / y)\n",
    "print(np.divide(x, y))"
   ]
  },
  {
   "cell_type": "code",
   "execution_count": 40,
   "metadata": {
    "colab": {
     "base_uri": "https://localhost:8080/"
    },
    "id": "Vb7tbSajKo34",
    "outputId": "0981a149-4f40-4faa-c94c-26baab45c78b"
   },
   "outputs": [
    {
     "name": "stdout",
     "output_type": "stream",
     "text": [
      "[[1.         1.41421356]\n",
      " [1.73205081 2.        ]]\n"
     ]
    }
   ],
   "source": [
    "# Elementwise square root; produces the array\n",
    "print(np.sqrt(x))"
   ]
  },
  {
   "cell_type": "markdown",
   "metadata": {
    "id": "TJTmQ-mmK_46"
   },
   "source": [
    "The dot-function is utilised to compute inner products of vectors, to multiply a vector by a matrix, and to multiply matrices. dot is available both as a function in the numpy module and as an instance method of array objects:\n",
    " "
   ]
  },
  {
   "cell_type": "code",
   "execution_count": 41,
   "metadata": {
    "colab": {
     "base_uri": "https://localhost:8080/"
    },
    "id": "rFJapGC9K0dJ",
    "outputId": "6529ea4c-398e-4949-e4c2-3a0a2edf9777"
   },
   "outputs": [
    {
     "name": "stdout",
     "output_type": "stream",
     "text": [
      "219\n",
      "219\n"
     ]
    }
   ],
   "source": [
    "v = np.array([9,10])\n",
    "w = np.array([11, 12])\n",
    "\n",
    "# Inner product of vectors\n",
    "print(v.dot(w))\n",
    "print(np.dot(v, w))"
   ]
  },
  {
   "cell_type": "code",
   "execution_count": 42,
   "metadata": {
    "colab": {
     "base_uri": "https://localhost:8080/"
    },
    "id": "2AKMHNi3K0y5",
    "outputId": "3abfd007-765e-43d8-d867-79c146796c09"
   },
   "outputs": [
    {
     "name": "stdout",
     "output_type": "stream",
     "text": [
      "[[1. 2.]\n",
      " [3. 4.]] [ 9 10]\n",
      "[29. 67.]\n",
      "[29. 67.]\n"
     ]
    }
   ],
   "source": [
    "# Matrix / vector product; both produce the rank 1 array \n",
    "print(x, v)\n",
    "print(x.dot(v))\n",
    "print(np.dot(x, v))"
   ]
  },
  {
   "cell_type": "code",
   "execution_count": 43,
   "metadata": {
    "colab": {
     "base_uri": "https://localhost:8080/"
    },
    "id": "2SqFZmoiLrxm",
    "outputId": "e01fde3c-9244-4577-f911-16fb95868af2"
   },
   "outputs": [
    {
     "name": "stdout",
     "output_type": "stream",
     "text": [
      "[[19. 22.]\n",
      " [43. 50.]]\n",
      "[[19. 22.]\n",
      " [43. 50.]]\n"
     ]
    }
   ],
   "source": [
    "# Matrix / matrix product; both produce the rank 2 array\n",
    "print(x.dot(y))\n",
    "print(np.dot(x, y))"
   ]
  },
  {
   "cell_type": "markdown",
   "metadata": {
    "id": "zDq_DoxGLsEW"
   },
   "source": [
    "Numpy provides many useful functions for performing computations on arrays; one of the most useful is sum:"
   ]
  },
  {
   "cell_type": "code",
   "execution_count": 44,
   "metadata": {
    "colab": {
     "base_uri": "https://localhost:8080/"
    },
    "id": "0buB3484L_sA",
    "outputId": "ad92b3b8-b3d1-4a66-a3aa-54d8676da2f2"
   },
   "outputs": [
    {
     "name": "stdout",
     "output_type": "stream",
     "text": [
      "[[1. 2.]\n",
      " [3. 4.]]\n",
      "10.0\n",
      "[4. 6.]\n",
      "[3. 7.]\n"
     ]
    }
   ],
   "source": [
    "print(x)\n",
    "print(np.sum(x))  # Compute sum of all elements;\n",
    "print(np.sum(x, axis=0))  # Compute sum of each column;\n",
    "print(np.sum(x, axis=1))  # Compute sum of each row; "
   ]
  },
  {
   "cell_type": "markdown",
   "metadata": {
    "id": "LV13csULY-SE"
   },
   "source": [
    "Another useful is mean:\n"
   ]
  },
  {
   "cell_type": "code",
   "execution_count": 45,
   "metadata": {
    "colab": {
     "base_uri": "https://localhost:8080/"
    },
    "id": "eZLnV6nxY-sE",
    "outputId": "72297b99-ef16-4955-c767-d22280e3975a"
   },
   "outputs": [
    {
     "name": "stdout",
     "output_type": "stream",
     "text": [
      "[[1. 2.]\n",
      " [3. 4.]]\n",
      "2.5\n",
      "[2. 3.]\n",
      "[1.5 3.5]\n"
     ]
    }
   ],
   "source": [
    "print(x)\n",
    "print(np.mean(x)) # compute the average of the flattened array\n",
    "print(np.mean(x, axis=0)) # compute the mean along the first axis\n",
    "print(np.mean(x, axis=1)) # compute the mean along the last axis"
   ]
  },
  {
   "cell_type": "markdown",
   "metadata": {
    "id": "mp4Kd79JMqM8"
   },
   "source": [
    "You can find the full list of mathematical functions provided by numpy in the [documentation](http://docs.scipy.org/doc/numpy/reference/routines.math.html).\n",
    "\n",
    "Apart from computing mathematical functions using arrays, we frequently need to reshape or otherwise manipulate data in arrays. The simplest example of this type of operation is transposing a matrix; to transpose a matrix, simply use the T attribute of an array object:"
   ]
  },
  {
   "cell_type": "code",
   "execution_count": 46,
   "metadata": {
    "colab": {
     "base_uri": "https://localhost:8080/"
    },
    "id": "G1iAoCeAMuMM",
    "outputId": "4852f436-3fb8-4ff1-ca41-406d2bd6649a"
   },
   "outputs": [
    {
     "name": "stdout",
     "output_type": "stream",
     "text": [
      "[[1. 2.]\n",
      " [3. 4.]]\n",
      "[[1. 3.]\n",
      " [2. 4.]]\n"
     ]
    }
   ],
   "source": [
    "print(x)\n",
    "print(x.T)"
   ]
  },
  {
   "cell_type": "markdown",
   "metadata": {
    "id": "N0AzvrLXOaAf"
   },
   "source": [
    "### Broadcasting\n",
    "Broadcasting is a powerful mechanism that allows numpy to work with arrays of different shapes when performing arithmetic operations. Frequently we have a smaller array and a larger array, and we want to use the smaller array multiple times to perform some operation on the larger array.\n",
    "For example, suppose that we want to add a constant vector to each row of a matrix. Numpy broadcasting allows us to perform this computation without actually multiple copies of the smaller array."
   ]
  },
  {
   "cell_type": "code",
   "execution_count": 47,
   "metadata": {
    "colab": {
     "base_uri": "https://localhost:8080/"
    },
    "id": "-_aTuWhmOiCf",
    "outputId": "424f433c-83a2-48e5-fbb1-bcca632bb325"
   },
   "outputs": [
    {
     "name": "stdout",
     "output_type": "stream",
     "text": [
      "[[ 2  2  4]\n",
      " [ 5  5  7]\n",
      " [ 8  8 10]\n",
      " [11 11 13]]\n"
     ]
    }
   ],
   "source": [
    "x = np.array([[1,2,3], [4,5,6], [7,8,9], [10, 11, 12]])\n",
    "v = np.array([1, 0, 1])\n",
    "y = x + v  # Add v to each row of x using broadcasting\n",
    "print(y)"
   ]
  },
  {
   "cell_type": "markdown",
   "metadata": {
    "id": "DmZsvJGFSG3l"
   },
   "source": [
    "The line y = x + v works even though x has shape (4, 3) and v has shape (3,) due to broadcasting; this line works as if v actually had shape (4, 3), where each row was a copy of v, and the sum was performed elementwise.\n",
    "\n",
    "Broadcasting two arrays together follows these rules:\n",
    "\n",
    "1. If the arrays do not have the same rank, prepend the shape of the lower rank array with 1s until both shapes have the same length.\n",
    "2. The two arrays are said to be compatible in a dimension if they have the same size in the dimension, or if one of the arrays has size 1 in that dimension.\n",
    "3. The arrays can be broadcast together if they are compatible in all dimensions.\n",
    "4. After broadcasting, each array behaves as if it had shape equal to the elementwise maximum of shapes of the two input arrays.\n",
    "5. In any dimension where one array had size 1 and the other array had size greater than 1, the first array behaves as if it were copied along that dimension\n",
    "\n",
    "\n",
    "Here are some applications of broadcasting:"
   ]
  },
  {
   "cell_type": "code",
   "execution_count": 48,
   "metadata": {
    "colab": {
     "base_uri": "https://localhost:8080/"
    },
    "id": "4kxs1vtYSKJe",
    "outputId": "f2815fb3-70af-49db-cadb-b73477966441"
   },
   "outputs": [
    {
     "name": "stdout",
     "output_type": "stream",
     "text": [
      "[[ 4  5]\n",
      " [ 8 10]\n",
      " [12 15]]\n"
     ]
    }
   ],
   "source": [
    "# Compute outer product of vectors\n",
    "v = np.array([1,2,3])  # v has shape (3,)\n",
    "w = np.array([4,5])    # w has shape (2,)\n",
    "# To compute an outer product, we first reshape v to be a column\n",
    "# vector of shape (3, 1); we can then broadcast it against w to yield\n",
    "# an output of shape (3, 2), which is the outer product of v and w:\n",
    "\n",
    "print(np.reshape(v, (3, 1)) * w)\n",
    "# print(v * w)"
   ]
  },
  {
   "cell_type": "code",
   "execution_count": 49,
   "metadata": {
    "colab": {
     "base_uri": "https://localhost:8080/"
    },
    "id": "ypQbv5ZwSKZm",
    "outputId": "9a734e7a-9c93-4ff4-dd72-cf6c6588d5e4"
   },
   "outputs": [
    {
     "name": "stdout",
     "output_type": "stream",
     "text": [
      "[[1 2 3]\n",
      " [4 5 6]] [1 2 3]\n",
      "[[2 4 6]\n",
      " [5 7 9]]\n"
     ]
    }
   ],
   "source": [
    "# Add a vector to each row of a matrix\n",
    "x = np.array([[1,2,3], [4,5,6]])\n",
    "print(x, v)\n",
    "# x has shape (2, 3) and v has shape (3,) so they broadcast to (2, 3),\n",
    "# giving the following matrix:\n",
    "\n",
    "print(x + v)"
   ]
  },
  {
   "cell_type": "code",
   "execution_count": 50,
   "metadata": {
    "colab": {
     "base_uri": "https://localhost:8080/"
    },
    "id": "gZYamxcrSKlu",
    "outputId": "b615444f-aaf0-4c97-a44b-cb164ca85d6e"
   },
   "outputs": [
    {
     "name": "stdout",
     "output_type": "stream",
     "text": [
      "[[1 2 3]\n",
      " [4 5 6]] [4 5]\n",
      "[[ 5  6  7]\n",
      " [ 9 10 11]]\n"
     ]
    }
   ],
   "source": [
    "# Add a vector to each column of a matrix\n",
    "# x has shape (2, 3) and w has shape (2,).\n",
    "# If we transpose x then it has shape (3, 2) and can be broadcast\n",
    "# against w to yield a result of shape (3, 2); transposing this result\n",
    "# yields the final result of shape (2, 3) which is the matrix x with\n",
    "# the vector w added to each column. Gives the following matrix:\n",
    "\n",
    "print(x, w)\n",
    "print((x.T + w).T)"
   ]
  },
  {
   "cell_type": "code",
   "execution_count": 51,
   "metadata": {
    "colab": {
     "base_uri": "https://localhost:8080/"
    },
    "id": "MaZ1hp16SK3u",
    "outputId": "79f8a348-25c1-43a4-da7a-a445b9597054"
   },
   "outputs": [
    {
     "name": "stdout",
     "output_type": "stream",
     "text": [
      "[[ 5  6  7]\n",
      " [ 9 10 11]]\n"
     ]
    }
   ],
   "source": [
    "# Another solution is to reshape w to be a row vector of shape (2, 1);\n",
    "# we can then broadcast it directly against x to produce the same\n",
    "# output.\n",
    "print(x + np.reshape(w, (2, 1)))"
   ]
  },
  {
   "cell_type": "code",
   "execution_count": 52,
   "metadata": {
    "colab": {
     "base_uri": "https://localhost:8080/"
    },
    "id": "NsG68eVrUWqj",
    "outputId": "7786d503-0bdd-4ec1-9a2e-18327a7ba2dc"
   },
   "outputs": [
    {
     "name": "stdout",
     "output_type": "stream",
     "text": [
      "[[ 2  4  6]\n",
      " [ 8 10 12]]\n"
     ]
    }
   ],
   "source": [
    "# Multiply a matrix by a constant:\n",
    "# x has shape (2, 3). Numpy treats scalars as arrays of shape ();\n",
    "# these can be broadcast together to shape (2, 3), producing the\n",
    "# following array:\n",
    "print(x * 2)"
   ]
  },
  {
   "cell_type": "markdown",
   "metadata": {
    "id": "WJxuuLDEOV4X"
   },
   "source": [
    "### Sorting"
   ]
  },
  {
   "cell_type": "markdown",
   "metadata": {
    "id": "q5cMZxF6Ody3"
   },
   "source": [
    "Numpy provides functions to sort an array on demanded axis, for example"
   ]
  },
  {
   "cell_type": "code",
   "execution_count": 53,
   "metadata": {
    "colab": {
     "base_uri": "https://localhost:8080/"
    },
    "id": "tMWQZgJpVMsf",
    "outputId": "e5b37d99-803b-4b32-c478-b96cb3ecc423"
   },
   "outputs": [
    {
     "name": "stdout",
     "output_type": "stream",
     "text": [
      "[[0 1 4]\n",
      " [1 3 5]]\n"
     ]
    }
   ],
   "source": [
    "a = np.array([[1, 4, 0], [3, 1, 5]])\n",
    "print(np.sort(a)) # sort along the last axis, i.e., axis=1"
   ]
  },
  {
   "cell_type": "code",
   "execution_count": 54,
   "metadata": {
    "colab": {
     "base_uri": "https://localhost:8080/"
    },
    "id": "7xnUaIDBVM7X",
    "outputId": "9e193c3e-5369-4e3f-8230-47ad9c8590e2"
   },
   "outputs": [
    {
     "name": "stdout",
     "output_type": "stream",
     "text": [
      "[0 1 1 3 4 5]\n"
     ]
    }
   ],
   "source": [
    "print(np.sort(a, axis = None)) # array is flattend before sorting"
   ]
  },
  {
   "cell_type": "code",
   "execution_count": 55,
   "metadata": {
    "colab": {
     "base_uri": "https://localhost:8080/"
    },
    "id": "MdEH8XVTVNI_",
    "outputId": "0a6b54fb-c657-4e98-ede9-a29122805de4"
   },
   "outputs": [
    {
     "name": "stdout",
     "output_type": "stream",
     "text": [
      "[[1 1 0]\n",
      " [3 4 5]]\n"
     ]
    }
   ],
   "source": [
    "print(np.sort(a, axis = 0)) # sort along the first axis"
   ]
  },
  {
   "cell_type": "markdown",
   "metadata": {
    "id": "o3qsPm-FVNU_"
   },
   "source": [
    "To figure out the index data, i.e., the sorted order, argsort can be applied, which gives the indices that would sort an array.\n",
    "For a rank 1 array:"
   ]
  },
  {
   "cell_type": "code",
   "execution_count": 56,
   "metadata": {
    "colab": {
     "base_uri": "https://localhost:8080/"
    },
    "id": "lC-jqed_VNiH",
    "outputId": "4cedded8-33eb-4a13-cf13-c18a4176f39b"
   },
   "outputs": [
    {
     "name": "stdout",
     "output_type": "stream",
     "text": [
      "[1 2 0]\n"
     ]
    }
   ],
   "source": [
    "x = np.array([3, 1, 2])\n",
    "print(np.argsort(x))"
   ]
  },
  {
   "cell_type": "markdown",
   "metadata": {
    "id": "wpG0wjPCVNxI"
   },
   "source": [
    "For a rank 2 array:"
   ]
  },
  {
   "cell_type": "code",
   "execution_count": 57,
   "metadata": {
    "colab": {
     "base_uri": "https://localhost:8080/"
    },
    "id": "ilLTOe7dXEJ6",
    "outputId": "aa82b5e2-b3c1-4745-edd4-9e3130943f6c"
   },
   "outputs": [
    {
     "name": "stdout",
     "output_type": "stream",
     "text": [
      "[[0 1]\n",
      " [1 0]]\n",
      "[[0 1]\n",
      " [0 1]]\n"
     ]
    }
   ],
   "source": [
    "x = np.array([[0, 3], [2, 2]])\n",
    "print(np.argsort(x, axis = 0)) # sorts along the first axis\n",
    "print(np.argsort(x, axis = 1)) # sort along the last axis"
   ]
  },
  {
   "cell_type": "markdown",
   "metadata": {
    "id": "n26WdJ5FQl8M"
   },
   "source": [
    "\n",
    "This brief overview has touched on many of the important things that you need to know about numpy, but is far from complete. Check out the [numpy reference](http://docs.scipy.org/doc/numpy/reference/) to find out much more about numpy."
   ]
  },
  {
   "cell_type": "markdown",
   "metadata": {
    "id": "YXSe8QOC-o8d"
   },
   "source": [
    "### Exercise 1:\n",
    "For the following 10*10 array A, \n",
    "\n",
    "\n",
    "\n",
    "> [[0.69145505, 0.86931882, 0.88576413, 0.82707554, 0.94754421, 0.54767962,  0.51818679, 0.27907936, 0.95212406, 0.22750068],\n",
    "\n",
    "> [0.345638,   0.16172159, 0.87807572, 0.38444467, 0.84255332, 0.69666159,  0.43339905, 0.91927538, 0.58666126, 0.83215206],\n",
    "\n",
    ">[0.91359442, 0.06356911, 0.37205853, 0.18242315, 0.37961342, 0.93335263,  0.34068447, 0.48598708, 0.24260729, 0.70004846],\n",
    "\n",
    ">[0.75245372, 0.64147803, 0.84013461, 0.6152693,  0.02235612, 0.4492574,  0.55206705, 0.69409179, 0.1666939,  0.67387225],\n",
    "\n",
    ">[0.30664677, 0.87559232, 0.07164895, 0.85516997, 0.77945438, 0.51948711,  0.18721151, 0.7690967 , 0.53605078, 0.55431431],\n",
    "\n",
    ">[0.1750064,  0.95009262, 0.57121048, 0.87359026, 0.05715099, 0.43202169,  0.3648696,  0.24367817, 0.06807447, 0.46999578],\n",
    "\n",
    ">[0.41121198, 0.10125657, 0.0869751,  0.91816382, 0.01738795, 0.19420588,  0.00127754, 0.19281699, 0.56083174, 0.55424236],\n",
    "\n",
    ">[0.34467108, 0.18352578, 0.69203741, 0.48087863, 0.39596428, 0.28107969,  0.09727506, 0.11236618, 0.82687268, 0.22700161],\n",
    "\n",
    ">[0.92788092, 0.87184167, 0.72492497, 0.94086364, 0.86998108, 0.35178978,  0.45463869, 0.0242793,  0.75607483, 0.21317889],\n",
    "\n",
    ">[0.15680697, 0.13109825, 0.93463861, 0.78143659, 0.30680001, 0.67935342,  0.3583568,  0.7522564,  0.19810852, 0.22378965]],\n",
    "\n",
    "\n",
    "\n",
    "answer the following questions by programming in numpy on[ Google Colaboratory](https://colab.research.google.com/notebooks/welcome.ipynb). Avoid therefor the explicit use of for and while loops as well as list comprehensions, but rather use numpy methods and operations to solve the tasks, as the strengths of numpy, its efficiency and clarity, lie within them.\n",
    "\n",
    "\n",
    "1.   What is the row index in A that has the largest last element? \n",
    "2.   What is the row index in A that has the second largest last element?\n",
    "3.   What are the row indices in A that have a row sum greater than 5?\n",
    "4.   What is the sum of all elements of the form A[i, i+1] in A?\n",
    "5.   Multiply elementwise every row in matrix A by the vector w [0.49039597 0.73424538 0.08249155 0.0488797  0.62525918 0.29331343 0.76435348 0.68825002 0.53465669 0.3399619], and then sum the results for every row\n",
    "6.   Do the above task in 5. using a numpy implementation of the matrix multiplication\n",
    "7.   Set all elements of A that are larger than 0.5 to 0. What is the sum of the resulting matrix?\n",
    "8.   Subtract 1 from all elements of A that are smaller than 0.5. What is the sum of the resulting matrix?\n",
    "9.   What is the sum of all elements in A, that are smaller than their column's mean?\n",
    "10.  Create a diagonal matrix B of size 10*10, with B[i,i] = i\n"
   ]
  },
  {
   "cell_type": "code",
   "execution_count": 58,
   "metadata": {
    "id": "E6IzijZI_x9C"
   },
   "outputs": [],
   "source": [
    "import numpy as np\n",
    "\n",
    "A=np.array([[0.69145505, 0.86931882, 0.88576413, 0.82707554, 0.94754421, 0.54767962,  0.51818679, 0.27907936, 0.95212406, 0.22750068],\n",
    " [0.345638,   0.16172159, 0.87807572, 0.38444467, 0.84255332, 0.69666159,  0.43339905, 0.91927538, 0.58666126, 0.83215206],\n",
    "[0.91359442, 0.06356911, 0.37205853, 0.18242315, 0.37961342, 0.93335263,  0.34068447, 0.48598708, 0.24260729, 0.70004846],\n",
    "[0.75245372, 0.64147803, 0.84013461, 0.6152693,  0.02235612, 0.4492574,  0.55206705, 0.69409179, 0.1666939,  0.67387225],\n",
    "[0.30664677, 0.87559232, 0.07164895, 0.85516997, 0.77945438, 0.51948711,  0.18721151, 0.7690967 , 0.53605078, 0.55431431],\n",
    "[0.1750064,  0.95009262, 0.57121048, 0.87359026, 0.05715099, 0.43202169,  0.3648696,  0.24367817, 0.06807447, 0.46999578],\n",
    "[0.41121198, 0.10125657, 0.0869751,  0.91816382, 0.01738795, 0.19420588,  0.00127754, 0.19281699, 0.56083174, 0.55424236],\n",
    "[0.34467108, 0.18352578, 0.69203741, 0.48087863, 0.39596428, 0.28107969,  0.09727506, 0.11236618, 0.82687268, 0.22700161],\n",
    "[0.92788092, 0.87184167, 0.72492497, 0.94086364, 0.86998108, 0.35178978,  0.45463869, 0.0242793,  0.75607483, 0.21317889],\n",
    "[0.15680697, 0.13109825, 0.93463861, 0.78143659, 0.30680001, 0.67935342,  0.3583568,  0.7522564,  0.19810852, 0.22378965]])\n",
    "\n",
    "w = np.array([0.49039597, 0.73424538, 0.08249155, 0.0488797,  0.62525918, 0.29331343, 0.76435348, 0.68825002, 0.53465669, 0.3399619])"
   ]
  },
  {
   "cell_type": "markdown",
   "metadata": {
    "id": "cw2K_CQ2rKQL"
   },
   "source": [
    "1. What is the row index in A that has the largest last element? (Tip: use numpy)"
   ]
  },
  {
   "cell_type": "code",
   "execution_count": 59,
   "metadata": {
    "id": "JVZaRZI4rKQL"
   },
   "outputs": [
    {
     "name": "stdout",
     "output_type": "stream",
     "text": [
      "1\n"
     ]
    }
   ],
   "source": [
    "row_index_largest_last_element = np.argmax(A[:,-1])\n",
    "print(row_index_largest_last_element)"
   ]
  },
  {
   "cell_type": "markdown",
   "metadata": {
    "id": "Rn4112BhrKQL"
   },
   "source": [
    "2. What is the row index in A that has the second largest last element?"
   ]
  },
  {
   "cell_type": "code",
   "execution_count": 60,
   "metadata": {
    "id": "i2qbzFjcrKQM"
   },
   "outputs": [
    {
     "name": "stdout",
     "output_type": "stream",
     "text": [
      "2\n"
     ]
    }
   ],
   "source": [
    "# inefficient but simple\n",
    "sorted_indices = np.argsort(A[:,-1])\n",
    "row_index_second_largest_last_element = sorted_indices[-2]\n",
    "print(row_index_second_largest_last_element)"
   ]
  },
  {
   "cell_type": "markdown",
   "metadata": {
    "id": "RRR7qM-frKQM"
   },
   "source": [
    "3. What are the row indices in A that have a row sum greater than 5?"
   ]
  },
  {
   "cell_type": "code",
   "execution_count": 61,
   "metadata": {
    "id": "5PyECKDsrKQM"
   },
   "outputs": [
    {
     "name": "stdout",
     "output_type": "stream",
     "text": [
      "[0 1 3 4 8]\n"
     ]
    }
   ],
   "source": [
    "row_indices_sum_greater_than_5 = np.where(np.sum(A, axis=1) > 5)[0]\n",
    "print(row_indices_sum_greater_than_5)"
   ]
  },
  {
   "cell_type": "markdown",
   "metadata": {
    "id": "vaw8b32ArKQM"
   },
   "source": [
    "4. What is the sum of all elements of the form A\\[i, i+1] in A? (Tip: Which mathematical concept is described here)"
   ]
  },
  {
   "cell_type": "code",
   "execution_count": 62,
   "metadata": {
    "id": "BjSYSo_0rKQN"
   },
   "outputs": [
    {
     "name": "stdout",
     "output_type": "stream",
     "text": [
      "4.06939908\n"
     ]
    }
   ],
   "source": [
    "assert np.isclose(np.diag(A,k=1)[0], A[0,1])\n",
    "sum_diag_plus_one = np.sum(np.diag(A,k=1))\n",
    "print(sum_diag_plus_one)"
   ]
  },
  {
   "cell_type": "markdown",
   "metadata": {
    "id": "EFbOQ-JjrKQN"
   },
   "source": [
    "5. Multiply elementwise every row in matrix A by the vector w \\[0.49039597 0.73424538 0.08249155 0.0488797 0.62525918 0.29331343 0.76435348 0.68825002 0.53465669 0.3399619], and then sum the results for every row."
   ]
  },
  {
   "cell_type": "code",
   "execution_count": 69,
   "metadata": {
    "id": "fOEpToLGrKQN"
   },
   "outputs": [
    {
     "name": "stdout",
     "output_type": "stream",
     "text": [
      "[[0.33908677 0.63829333 0.07306806 0.0404272  0.59246072 0.16064179\n",
      "  0.39607788 0.19207638 0.5090595  0.07734156]\n",
      " [0.16949948 0.11874333 0.07243383 0.01879154 0.5268142  0.2043402\n",
      "  0.33127007 0.6326913  0.31366237 0.2829    ]\n",
      " [0.44802302 0.04667533 0.03069168 0.00891679 0.23735678 0.27376486\n",
      "  0.26040336 0.33448062 0.12971161 0.2379898 ]\n",
      " [0.36900027 0.47100228 0.06930401 0.03007418 0.01397837 0.13177323\n",
      "  0.42197437 0.47770869 0.08912401 0.22909089]\n",
      " [0.15037834 0.64289962 0.00591043 0.04180045 0.48736101 0.15237255\n",
      "  0.14309577 0.52933082 0.28660314 0.18844575]\n",
      " [0.08582243 0.69760112 0.04712004 0.04270083 0.03573418 0.12671776\n",
      "  0.27888935 0.16771151 0.03639647 0.15978066]\n",
      " [0.2016567  0.07434717 0.00717471 0.04487957 0.01087198 0.05696319\n",
      "  0.00097649 0.1327063  0.29985244 0.18842129]\n",
      " [0.16902531 0.13475296 0.05708724 0.0235052  0.2475803  0.08244445\n",
      "  0.07435253 0.07733603 0.44209301 0.0771719 ]\n",
      " [0.45502906 0.64014572 0.05980018 0.04598913 0.54396366 0.10318467\n",
      "  0.34750466 0.01671023 0.40424047 0.0724727 ]\n",
      " [0.07689751 0.09625828 0.07709979 0.03819639 0.19182952 0.19926348\n",
      "  0.27391127 0.51774048 0.10592005 0.07607995]]\n",
      "[3.01853317 2.67114631 2.00801385 2.30303029 2.62819786 1.67847435\n",
      " 1.01784983 1.38534892 2.68904048 1.65319672]\n"
     ]
    }
   ],
   "source": [
    "# result1[i,j] = A[i, j] * w[j]\n",
    "result1 = A[:,:] * w[np.newaxis,:]\n",
    "print(result1)\n",
    "# result2[i] = sum_j result1[i,j]\n",
    "result2 = np.sum(result1, axis=1)\n",
    "print(result2)"
   ]
  },
  {
   "cell_type": "markdown",
   "metadata": {
    "id": "oLl4PQtSrKQO"
   },
   "source": [
    "6. Do the above task in 5. using matrix multiplication. (The result should be identical to above, but you should use a numpy implementation of the matrix multiplication)"
   ]
  },
  {
   "cell_type": "code",
   "execution_count": 64,
   "metadata": {
    "id": "aghsCfb0rKQO"
   },
   "outputs": [
    {
     "name": "stdout",
     "output_type": "stream",
     "text": [
      "[3.01853317 2.67114631 2.00801385 2.30303029 2.62819786 1.67847435\n",
      " 1.01784983 1.38534892 2.68904048 1.65319672]\n"
     ]
    }
   ],
   "source": [
    "# result[i] = sum_j A[i, j] w[j] = (A @ w)[i]\n",
    "result = np.dot(A, w)\n",
    "print(result)\n",
    "assert np.allclose(result, result2)"
   ]
  },
  {
   "cell_type": "markdown",
   "metadata": {
    "id": "ta4DiIy3rKQO"
   },
   "source": [
    "7. Set all elements of A that are larger than 0.5 to 0. What is the sum of the resulting matrix?"
   ]
  },
  {
   "cell_type": "code",
   "execution_count": 65,
   "metadata": {
    "id": "2-ACDVpNrKQO"
   },
   "outputs": [
    {
     "name": "stdout",
     "output_type": "stream",
     "text": [
      "12.46007933\n"
     ]
    }
   ],
   "source": [
    "newA = A.copy()\n",
    "newA[newA > 0.5] = 0\n",
    "print(np.sum(newA))"
   ]
  },
  {
   "cell_type": "markdown",
   "metadata": {
    "id": "tymCre4TrKQP"
   },
   "source": [
    "8. Subtract 1 from all elements of A that are smaller than 0.5. What is the sum of the resulting matrix?"
   ]
  },
  {
   "cell_type": "code",
   "execution_count": 66,
   "metadata": {
    "id": "dGGiueLXrKQP"
   },
   "outputs": [
    {
     "name": "stdout",
     "output_type": "stream",
     "text": [
      "-1.15357179\n"
     ]
    }
   ],
   "source": [
    "newA = A.copy()\n",
    "newA[newA < 0.5] -= 1\n",
    "print(np.sum(newA))"
   ]
  },
  {
   "cell_type": "markdown",
   "metadata": {
    "id": "zf1VggdarKQP"
   },
   "source": [
    "9. What is the sum of all elements in A, that are smaller than their column's mean?"
   ]
  },
  {
   "cell_type": "code",
   "execution_count": 67,
   "metadata": {
    "id": "z623LLLirKQP"
   },
   "outputs": [
    {
     "name": "stdout",
     "output_type": "stream",
     "text": [
      "10.738627640000002\n"
     ]
    }
   ],
   "source": [
    "column_mean = np.mean(A, axis=0)\n",
    "index_smaller = np.where(A[:,:] < column_mean[np.newaxis,:])\n",
    "print(np.sum(A[index_smaller]))"
   ]
  },
  {
   "cell_type": "markdown",
   "metadata": {
    "id": "lfFbUQq9rKQQ"
   },
   "source": [
    "10. Create a diagonal matrix B of size 10*10, with B\\[i,i] = i"
   ]
  },
  {
   "cell_type": "code",
   "execution_count": 68,
   "metadata": {
    "id": "2hK5X7DfrKQQ"
   },
   "outputs": [
    {
     "name": "stdout",
     "output_type": "stream",
     "text": [
      "[[0 0 0 0 0 0 0 0 0 0]\n",
      " [0 1 0 0 0 0 0 0 0 0]\n",
      " [0 0 2 0 0 0 0 0 0 0]\n",
      " [0 0 0 3 0 0 0 0 0 0]\n",
      " [0 0 0 0 4 0 0 0 0 0]\n",
      " [0 0 0 0 0 5 0 0 0 0]\n",
      " [0 0 0 0 0 0 6 0 0 0]\n",
      " [0 0 0 0 0 0 0 7 0 0]\n",
      " [0 0 0 0 0 0 0 0 8 0]\n",
      " [0 0 0 0 0 0 0 0 0 9]]\n"
     ]
    }
   ],
   "source": [
    "B = np.diag(np.arange(0, 10))\n",
    "print(B)"
   ]
  },
  {
   "cell_type": "code",
   "execution_count": null,
   "metadata": {},
   "outputs": [],
   "source": []
  }
 ],
 "metadata": {
  "colab": {
   "collapsed_sections": [],
   "provenance": []
  },
  "kernelspec": {
   "display_name": "Python 3 (ipykernel)",
   "language": "python",
   "name": "python3"
  },
  "language_info": {
   "codemirror_mode": {
    "name": "ipython",
    "version": 3
   },
   "file_extension": ".py",
   "mimetype": "text/x-python",
   "name": "python",
   "nbconvert_exporter": "python",
   "pygments_lexer": "ipython3",
   "version": "3.11.6"
  }
 },
 "nbformat": 4,
 "nbformat_minor": 1
}
